{
 "cells": [
  {
   "cell_type": "markdown",
   "id": "5dee1a3f",
   "metadata": {},
   "source": [
    "## robot.txt는 웹 사이트 및 웹 페이지를 수집하는 로봇들의 무단 접근을 방지하기 위해 만들어진 로봇 배제 표준(robots exclusion standard)이자 국제 권고안입니다.\n",
    "\n",
    "- user-agent로 구분\n",
    "- 나의 User Agent 확인해보기: https://www.whatismybrowser.com/detect/what-is-my-user-agent/\n",
    "<br>\n",
    "\n",
    "- 정리, 웹 스크래핑을 할 때 원칙은\n",
    "\n",
    "  1. 요청하고자 하는 서버에 과도한 부하를 주지 않는다.\n",
    "  2. 가져온 정보를 사용할 때 저작권과 데이터베이스권에 위배되지 않는지 주의한다."
   ]
  },
  {
   "cell_type": "code",
   "execution_count": 3,
   "id": "53e6c908",
   "metadata": {},
   "outputs": [
    {
     "data": {
      "text/plain": [
       "<Response [200]>"
      ]
     },
     "execution_count": 3,
     "metadata": {},
     "output_type": "execute_result"
    }
   ],
   "source": [
    "# requests 모듈을 불러온 후, 다음 웹사이트에 대한 robots.txt 정책을 확인해봅시다.\n",
    "\n",
    "import requests\n",
    "\n",
    "res = requests.get(\"https://www.naver.com/robots.txt\")\n"
   ]
  },
  {
   "cell_type": "code",
   "execution_count": 4,
   "id": "7dbfa0a1",
   "metadata": {},
   "outputs": [
    {
     "name": "stdout",
     "output_type": "stream",
     "text": [
      "User-agent: *\n",
      "Disallow: /\n",
      "Allow : /$ \n",
      "\n"
     ]
    }
   ],
   "source": [
    "print(res.text)"
   ]
  },
  {
   "cell_type": "markdown",
   "id": "50927459",
   "metadata": {},
   "source": [
    "- 'User-agent': 규칙이 적용되는 대상 사용자 에이전트\n",
    "- 'Disallow': 크롤링을 금지할 웹 페이지\n",
    "- 'Allow': 크롤링을 허용할 웹 페이지\n",
    "\n",
    "### Exercise: 자주 사용하는 사이트 robots.txt"
   ]
  },
  {
   "cell_type": "code",
   "execution_count": 7,
   "id": "24916e2f",
   "metadata": {},
   "outputs": [
    {
     "name": "stdout",
     "output_type": "stream",
     "text": [
      "# See http://www.robotstxt.org/robotstxt.html for documentation on how to use the robots.txt file\n",
      "#\n",
      "# To ban all spiders from the entire site uncomment the next two lines:\n",
      "# Disallow: /\n",
      "\n",
      "User-agent: *\n",
      "Disallow: /crt/*\n",
      "Disallow: /privacy\n",
      "Disallow: /terms\n",
      "Disallow: /core\n",
      "Disallow: /rocket_correction\n",
      "Allow: /\n"
     ]
    }
   ],
   "source": [
    "res = requests.get(\"https://jasoseol.com/robots.txt\")\n",
    "print(res.text)"
   ]
  },
  {
   "cell_type": "code",
   "execution_count": null,
   "id": "26f107e4",
   "metadata": {},
   "outputs": [],
   "source": []
  }
 ],
 "metadata": {
  "kernelspec": {
   "display_name": "Python 3 (ipykernel)",
   "language": "python",
   "name": "python3"
  },
  "language_info": {
   "codemirror_mode": {
    "name": "ipython",
    "version": 3
   },
   "file_extension": ".py",
   "mimetype": "text/x-python",
   "name": "python",
   "nbconvert_exporter": "python",
   "pygments_lexer": "ipython3",
   "version": "3.9.12"
  }
 },
 "nbformat": 4,
 "nbformat_minor": 5
}
