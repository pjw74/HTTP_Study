{
 "cells": [
  {
   "cell_type": "markdown",
   "id": "3e9ef4d7",
   "metadata": {},
   "source": [
    "## 2-3. 원하는 요소 가져오기 I - 책 이름 모으기\n",
    "\n",
    "### Target: Mock Book Data\n",
    "\n",
    "- 다음 사이트에 있는 책들의 이름 정보를 스크래핑 해봅시다: \n",
    "http://books.toscrape.com/catalogue/category/books/travel_2/index.html"
   ]
  },
  {
   "cell_type": "code",
   "execution_count": 1,
   "id": "9ad11827",
   "metadata": {},
   "outputs": [],
   "source": [
    "# 스크래핑에 필요한 라이브러리를 불러와봅시다.\n",
    "\n",
    "import requests\n",
    "from bs4 import BeautifulSoup"
   ]
  },
  {
   "cell_type": "code",
   "execution_count": 3,
   "id": "427d9695",
   "metadata": {},
   "outputs": [],
   "source": [
    "# 예시 사이트에 요청을 진행하고, 응답을 바탕으로 BeautifulSoup 객체를 만들어봅시다.\n",
    "\n",
    "res = requests.get(\"http://books.toscrape.com/catalogue/category/books/travel_2/index.html\")\n",
    "soup = BeautifulSoup(res.text,\"html.parser\")"
   ]
  },
  {
   "cell_type": "code",
   "execution_count": 8,
   "id": "052b3dc7",
   "metadata": {},
   "outputs": [],
   "source": [
    "# <h3>태그에 해당하는 요소를 찾자\n",
    "\n",
    "book = soup.find(\"h3\")"
   ]
  },
  {
   "cell_type": "code",
   "execution_count": 11,
   "id": "93f61b29",
   "metadata": {},
   "outputs": [
    {
     "data": {
      "text/plain": [
       "<h3><a href=\"../../../its-only-the-himalayas_981/index.html\" title=\"It's Only the Himalayas\">It's Only the Himalayas</a></h3>"
      ]
     },
     "execution_count": 11,
     "metadata": {},
     "output_type": "execute_result"
    }
   ],
   "source": [
    "# <h3>태그에 해당하는 모두 요소를 찾자\n",
    "\n",
    "h3_results = soup.find_all(\"h3\")\n",
    "len(h3_results)\n",
    "h3_results[0]\n"
   ]
  },
  {
   "cell_type": "markdown",
   "id": "58a49ad8",
   "metadata": {},
   "source": [
    "찾아온 데이터들은 모두 **객체**"
   ]
  },
  {
   "cell_type": "code",
   "execution_count": 14,
   "id": "dcf366a2",
   "metadata": {},
   "outputs": [
    {
     "name": "stdout",
     "output_type": "stream",
     "text": [
      "It's Only the Himalayas\n",
      "Full Moon over Noahâs Ark: An Odyssey to Mount Ararat and Beyond\n",
      "See America: A Celebration of Our National Parks & Treasured Sites\n",
      "Vagabonding: An Uncommon Guide to the Art of Long-Term World Travel\n",
      "Under the Tuscan Sun\n",
      "A Summer In Europe\n",
      "The Great Railway Bazaar\n",
      "A Year in Provence (Provence #1)\n",
      "The Road to Little Dribbling: Adventures of an American in Britain (Notes From a Small Island #2)\n",
      "Neither Here nor There: Travels in Europe\n",
      "1,000 Places to See Before You Die\n"
     ]
    }
   ],
   "source": [
    "# book_list에서 우리가 원하는 제목(title)만 추출해봅시다.\n",
    "\n",
    "for book in h3_results:\n",
    "    print(book.a[\"title\"])\n"
   ]
  },
  {
   "cell_type": "code",
   "execution_count": null,
   "id": "41d412da",
   "metadata": {},
   "outputs": [],
   "source": []
  }
 ],
 "metadata": {
  "kernelspec": {
   "display_name": "Python 3 (ipykernel)",
   "language": "python",
   "name": "python3"
  },
  "language_info": {
   "codemirror_mode": {
    "name": "ipython",
    "version": 3
   },
   "file_extension": ".py",
   "mimetype": "text/x-python",
   "name": "python",
   "nbconvert_exporter": "python",
   "pygments_lexer": "ipython3",
   "version": "3.9.12"
  }
 },
 "nbformat": 4,
 "nbformat_minor": 5
}
